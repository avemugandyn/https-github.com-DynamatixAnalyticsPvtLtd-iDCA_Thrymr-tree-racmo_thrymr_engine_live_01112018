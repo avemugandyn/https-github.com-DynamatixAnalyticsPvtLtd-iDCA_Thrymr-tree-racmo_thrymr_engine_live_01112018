{
 "cells": [
  {
   "cell_type": "markdown",
   "metadata": {},
   "source": [
    "## Import Packages"
   ]
  },
  {
   "cell_type": "code",
   "execution_count": 1,
   "metadata": {
    "slideshow": {
     "slide_type": "-"
    }
   },
   "outputs": [],
   "source": [
    "import pandas as pd\n",
    "import numpy as np\n",
    "import pdfquery\n",
    "import json\n",
    "from shapely.geometry import box\n",
    "from shapely.ops import cascaded_union\n",
    "from math import floor\n",
    "import pickle\n",
    "from pymongo import MongoClient\n",
    "from os import listdir\n",
    "from os.path import isfile, join, isdir\n",
    "from os import listdir\n",
    "import re\n",
    "import pickle\n",
    "import hashlib\n",
    "import unidecode\n",
    "from fuzzysearch import find_near_matches\n",
    "import textract\n",
    "import unicodedata\n",
    "import pydblite\n",
    "import warnings"
   ]
  },
  {
   "cell_type": "markdown",
   "metadata": {},
   "source": [
    "## Read Files"
   ]
  },
  {
   "cell_type": "code",
   "execution_count": 2,
   "metadata": {},
   "outputs": [],
   "source": [
    "# KeywordDir=\"Keyword Creation\"\n",
    "KeywordDir = 'Keyword_Creation'\n",
    "keyword_files= [join(KeywordDir, f) for f in listdir(KeywordDir)\\\n",
    "              if isfile(join(KeywordDir, f)) and f[-4:].lower() == \"xlsx\"]"
   ]
  },
  {
   "cell_type": "code",
   "execution_count": 3,
   "metadata": {},
   "outputs": [
    {
     "data": {
      "text/plain": [
       "['Keyword_Creation/N10 - REQUIREMENTS.xlsx',\n",
       " 'Keyword_Creation/N1 - CLAIMS ADMITTED.xlsx',\n",
       " 'Keyword_Creation/N3 - ENFORCEMENT ORDERS.xlsx',\n",
       " 'Keyword_Creation/N27 - REQUERIMIENTO CONCURSAL.xlsx',\n",
       " 'Keyword_Creation/N34 - CASE SUSPENDED ON LACK OF LEGAL GROUNDS.xlsx',\n",
       " 'Keyword_Creation/N7 - HEARINGS.xlsx',\n",
       " 'Keyword_Creation/N14 - CANCELLED HEARING.xlsx',\n",
       " 'Keyword_Creation/N5 - REJECTED CLAIMS.xlsx',\n",
       " 'Keyword_Creation/N24 - FILED.xlsx',\n",
       " 'Keyword_Creation/N36 - SUSPENSION LIFTED.xlsx',\n",
       " 'Keyword_Creation/N2 - TRANSFER OF LEGAL REPRESENTATION PERMITTED.msg.xlsx',\n",
       " 'Keyword_Creation/N16 -  PENDING ASSET INQUIRY.xlsx',\n",
       " 'Keyword_Creation/N19 - FURTHER GARNISHMENT.xlsx',\n",
       " 'Keyword_Creation/N35 - PROCEDURE SUSPENDED.xlsx',\n",
       " 'Keyword_Creation/N11 - BANK TRANSFERS.xlsx',\n",
       " 'Keyword_Creation/NX - ANTI CLASSIFICATION.xlsx',\n",
       " 'Keyword_Creation/N17 - PENDING JUDGE DECISION.xlsx',\n",
       " 'Keyword_Creation/N9 - PLACE OF RESIDENCY REQUIRED.xlsx',\n",
       " 'Keyword_Creation/N6 - REJECTED TRANSFER OF LEGAL REPRESENTATION.xlsx',\n",
       " 'Keyword_Creation/N13 - SUSPENDED HEARINGS.xlsx',\n",
       " 'Keyword_Creation/N4 - STATEMENTS OF PAYMENT.xlsx',\n",
       " 'Keyword_Creation/N18 - GARNISHMENT.xlsx']"
      ]
     },
     "execution_count": 3,
     "metadata": {},
     "output_type": "execute_result"
    }
   ],
   "source": [
    "keyword_files"
   ]
  },
  {
   "cell_type": "markdown",
   "metadata": {},
   "source": [
    "## Categorise Files"
   ]
  },
  {
   "cell_type": "code",
   "execution_count": 4,
   "metadata": {},
   "outputs": [],
   "source": [
    "ls1, ls3, s1 = [], [], []\n",
    "for f in keyword_files:\n",
    "    xl_file = pd.ExcelFile(f)\n",
    "    dfs = xl_file.parse(xl_file.sheet_names[0])\n",
    "    tic=False\n",
    "    for index, row in dfs.iterrows():\n",
    "        ite=dict()\n",
    "        if(row[0]=='TICKETS' or row[0]=='TICKET'):\n",
    "            tic=True\n",
    "        if(row[0]!='TICKETS' and row[0]!='TICKET' and isinstance(row[0], basestring)):\n",
    "        \n",
    "            ite['file_class']=f.split('/')[-1].split()[0]\n",
    "            s1.append(ite['file_class'])\n",
    "            ite['notification_type']=row[0]\n",
    "            if(tic):\n",
    "                ite['file_type']='TICKET'\n",
    "            else:\n",
    "                ite['file_type']='NOTIFICATION'\n",
    "            kw=list()\n",
    "            for i in range(1,row.size):\n",
    "                if(isinstance(row[i], basestring) and row[i]!='+'):\n",
    "                    kw.append(unidecode.unidecode(row[i]).lower() )\n",
    "            ite['keyword']=kw\n",
    "            if(ite['file_class'] == 'NX'):\n",
    "                ls3.append(ite)\n",
    "            else:\n",
    "                ls1.append(ite)\n",
    "newkdf=pd.DataFrame(ls1)\n",
    "suspkdf=pd.DataFrame(ls3)\n",
    "suspkdf=suspkdf.rename(columns={\"notification_type\":\"remove_class\"})"
   ]
  },
  {
   "cell_type": "code",
   "execution_count": 7,
   "metadata": {},
   "outputs": [
    {
     "data": {
      "text/html": [
       "<div>\n",
       "<style scoped>\n",
       "    .dataframe tbody tr th:only-of-type {\n",
       "        vertical-align: middle;\n",
       "    }\n",
       "\n",
       "    .dataframe tbody tr th {\n",
       "        vertical-align: top;\n",
       "    }\n",
       "\n",
       "    .dataframe thead th {\n",
       "        text-align: right;\n",
       "    }\n",
       "</style>\n",
       "<table border=\"1\" class=\"dataframe\">\n",
       "  <thead>\n",
       "    <tr style=\"text-align: right;\">\n",
       "      <th></th>\n",
       "      <th>file_class</th>\n",
       "      <th>file_type</th>\n",
       "      <th>keyword</th>\n",
       "      <th>notification_type</th>\n",
       "    </tr>\n",
       "  </thead>\n",
       "  <tbody>\n",
       "    <tr>\n",
       "      <th>900</th>\n",
       "      <td>N17</td>\n",
       "      <td>NOTIFICATION</td>\n",
       "      <td>[dese cuenta a s.sa]</td>\n",
       "      <td>N17 - PENDING JUDGE DECISION</td>\n",
       "    </tr>\n",
       "    <tr>\n",
       "      <th>901</th>\n",
       "      <td>N17</td>\n",
       "      <td>NOTIFICATION</td>\n",
       "      <td>[se da cuenta a s.sa]</td>\n",
       "      <td>N17 - PENDING JUDGE DECISION</td>\n",
       "    </tr>\n",
       "    <tr>\n",
       "      <th>902</th>\n",
       "      <td>N17</td>\n",
       "      <td>NOTIFICATION</td>\n",
       "      <td>[dar cuenta a s.sa]</td>\n",
       "      <td>N17 - PENDING JUDGE DECISION</td>\n",
       "    </tr>\n",
       "    <tr>\n",
       "      <th>903</th>\n",
       "      <td>N17</td>\n",
       "      <td>NOTIFICATION</td>\n",
       "      <td>[acuerdo dar cuenta a s.sa]</td>\n",
       "      <td>N17 - PENDING JUDGE DECISION</td>\n",
       "    </tr>\n",
       "    <tr>\n",
       "      <th>904</th>\n",
       "      <td>N17</td>\n",
       "      <td>NOTIFICATION</td>\n",
       "      <td>[dese cuenta a la magistrado juez]</td>\n",
       "      <td>N17 - PENDING JUDGE DECISION</td>\n",
       "    </tr>\n",
       "    <tr>\n",
       "      <th>905</th>\n",
       "      <td>N17</td>\n",
       "      <td>NOTIFICATION</td>\n",
       "      <td>[queden las actuaciones para resolver dicho re...</td>\n",
       "      <td>N17 - PENDING JUDGE DECISION</td>\n",
       "    </tr>\n",
       "    <tr>\n",
       "      <th>906</th>\n",
       "      <td>N17</td>\n",
       "      <td>NOTIFICATION</td>\n",
       "      <td>[pasen las actuaciones a la mesa de ssa]</td>\n",
       "      <td>N17 - PENDING JUDGE DECISION</td>\n",
       "    </tr>\n",
       "    <tr>\n",
       "      <th>907</th>\n",
       "      <td>N17</td>\n",
       "      <td>NOTIFICATION</td>\n",
       "      <td>[dese cuenta a ssria]</td>\n",
       "      <td>N17 - PENDING JUDGE DECISION</td>\n",
       "    </tr>\n",
       "    <tr>\n",
       "      <th>908</th>\n",
       "      <td>N17</td>\n",
       "      <td>NOTIFICATION</td>\n",
       "      <td>[pasen los autos a la]</td>\n",
       "      <td>N17 - PENDING JUDGE DECISION</td>\n",
       "    </tr>\n",
       "    <tr>\n",
       "      <th>909</th>\n",
       "      <td>N17</td>\n",
       "      <td>NOTIFICATION</td>\n",
       "      <td>[mesa de ssa]</td>\n",
       "      <td>N17 - PENDING JUDGE DECISION</td>\n",
       "    </tr>\n",
       "  </tbody>\n",
       "</table>\n",
       "</div>"
      ],
      "text/plain": [
       "    file_class     file_type  \\\n",
       "900        N17  NOTIFICATION   \n",
       "901        N17  NOTIFICATION   \n",
       "902        N17  NOTIFICATION   \n",
       "903        N17  NOTIFICATION   \n",
       "904        N17  NOTIFICATION   \n",
       "905        N17  NOTIFICATION   \n",
       "906        N17  NOTIFICATION   \n",
       "907        N17  NOTIFICATION   \n",
       "908        N17  NOTIFICATION   \n",
       "909        N17  NOTIFICATION   \n",
       "\n",
       "                                               keyword  \\\n",
       "900                               [dese cuenta a s.sa]   \n",
       "901                              [se da cuenta a s.sa]   \n",
       "902                                [dar cuenta a s.sa]   \n",
       "903                        [acuerdo dar cuenta a s.sa]   \n",
       "904                 [dese cuenta a la magistrado juez]   \n",
       "905  [queden las actuaciones para resolver dicho re...   \n",
       "906           [pasen las actuaciones a la mesa de ssa]   \n",
       "907                              [dese cuenta a ssria]   \n",
       "908                             [pasen los autos a la]   \n",
       "909                                      [mesa de ssa]   \n",
       "\n",
       "                notification_type  \n",
       "900  N17 - PENDING JUDGE DECISION  \n",
       "901  N17 - PENDING JUDGE DECISION  \n",
       "902  N17 - PENDING JUDGE DECISION  \n",
       "903  N17 - PENDING JUDGE DECISION  \n",
       "904  N17 - PENDING JUDGE DECISION  \n",
       "905  N17 - PENDING JUDGE DECISION  \n",
       "906  N17 - PENDING JUDGE DECISION  \n",
       "907  N17 - PENDING JUDGE DECISION  \n",
       "908  N17 - PENDING JUDGE DECISION  \n",
       "909  N17 - PENDING JUDGE DECISION  "
      ]
     },
     "execution_count": 7,
     "metadata": {},
     "output_type": "execute_result"
    }
   ],
   "source": [
    "newkdf.loc[newkdf['file_class']=='N17'][:10]"
   ]
  },
  {
   "cell_type": "markdown",
   "metadata": {},
   "source": [
    "## Specify Purpose"
   ]
  },
  {
   "cell_type": "code",
   "execution_count": 9,
   "metadata": {},
   "outputs": [],
   "source": [
    "pdfclass={ 'N1':'CLAIM ADMITTED TO PROCEDURE',\n",
    "           'N2':'ACCEPTED TRANSFER OF LEGAL REPRESENTATION',\n",
    "           'N3':'ENFORCEMENT ORDER',\n",
    "           'N4':'STATEMENT OF PAYMENT',\n",
    "           'N5':'REJECTED CLAIMS',\n",
    "           'N6':'REJECTED TRANSFER OF LEGAL REPRESENTATION',\n",
    "           'N7':'HEARING',\n",
    "           'N8':'ASSET INQUIRY',\n",
    "           'N9':'PLACE OF RESIDENCY REQUIRED',\n",
    "           'N10':'REQUIREMENT',\n",
    "           'N11':'BANK TRANSFERS',\n",
    "           'N12':'SOLICITOR REMOVAL',\n",
    "           'N13':'SUSPENDED HEARINGS',\n",
    "           'N14':'CANCELLED HEARINGS',\n",
    "           'N15':'NEGATIVE ASSET INQUIRY',\n",
    "           'N16':'PENDING ASSET INQUIRY',\n",
    "           'N17' :'PENDING JUDGE DECISION',\n",
    "           'N24' : 'FILED',\n",
    "           'N34':'CASE SUSPENDED ON LACK OF LEGAL GROUNDS',\n",
    "           'N35':'PROCEDURE SUSPENDED',\n",
    "           'N36' : 'SUSPENSION LIFTED',\n",
    "           'N19' : 'FURTHER GARNISHMENT',\n",
    "           'N18' : 'GARNISHMENT',\n",
    "           'N27' : 'REQUERIMIENTO CONCURSAL'\n",
    "          }\n",
    "\n",
    "newkdf['purpose']=''\n",
    "n=newkdf.iterrows()\n",
    "for i, row in n:\n",
    "    if(not ( row['file_class'] =='N5'or row['file_class'] =='N6')):\n",
    "        if(pdfclass[row['file_class']] in row['notification_type']):\n",
    "            newkdf.loc[i,'purpose']='CLASSIFICATION'\n",
    "        else:\n",
    "            newkdf.loc[i,'purpose']='EXTRACTION'\n",
    "    elif row['file_class'] =='N5':\n",
    "        if('N5 - REJECTED CLAIMS' in row['notification_type']):\n",
    "            newkdf.loc[i,'purpose']='CLASSIFICATION'\n",
    "        else:\n",
    "            newkdf.loc[i,'purpose']='EXTRACTION'\n",
    "    elif row['file_class'] =='N6':\n",
    "        if('N6 - REJECTED TRANSFER OF LEGAL REPRESENTATION' in row['notification_type']):\n",
    "            newkdf.loc[i,'purpose']='CLASSIFICATION'\n",
    "        else:\n",
    "            newkdf.loc[i,'purpose']='EXTRACTION'\n",
    "            \n",
    "k=newkdf[(newkdf['file_class']=='N10') & (newkdf['purpose']=='CLASSIFICATION')&(newkdf['file_type']=='NOTIFICATION')].groupby('notification_type')\n",
    "new10df=pd.DataFrame(columns=newkdf.columns)\n",
    "i=0\n",
    "for lidx in k.groups['N10 - REQUIREMENTS']:\n",
    "    for ridx in k.groups['N10 - REQUIREMENT SPECIFICATION']:\n",
    "        new10df=new10df.append(newkdf.iloc[lidx],ignore_index=True)\n",
    "        \n",
    "        new10df.loc[i,'keyword']=new10df.loc[i,'keyword']+newkdf.loc[ridx,'keyword']\n",
    "        i=i+1\n",
    "newkdf = newkdf[~((newkdf['file_class']=='N10') & (newkdf['purpose']=='CLASSIFICATION')&(newkdf['file_type']=='NOTIFICATION')&\n",
    "                  ((newkdf['notification_type']=='N10 - REQUIREMENTS')|(newkdf['notification_type']=='N10 - REQUIREMENT SPECIFICATION')))].append(new10df,ignore_index=True)\n"
   ]
  },
  {
   "cell_type": "code",
   "execution_count": 11,
   "metadata": {},
   "outputs": [],
   "source": [
    "#newkdf.loc[newkdf['file_class']=='N17']"
   ]
  },
  {
   "cell_type": "code",
   "execution_count": 12,
   "metadata": {},
   "outputs": [
    {
     "name": "stderr",
     "output_type": "stream",
     "text": [
      "/usr/local/lib/python2.7/dist-packages/ipykernel_launcher.py:16: FutureWarning: set_value is deprecated and will be removed in a future release. Please use .at[] or .iat[] accessors instead\n",
      "  app.launch_new_instance()\n"
     ]
    }
   ],
   "source": [
    "k=newkdf[(newkdf['file_class']=='N27') & (newkdf['purpose']=='CLASSIFICATION')&(newkdf['file_type']=='NOTIFICATION')].groupby('notification_type')\n",
    "new27df=pd.DataFrame(columns=newkdf.columns)\n",
    "i=0\n",
    "for lidx in k.groups['N27 - REQUERIMIENTO CONCURSAL Com2']:\n",
    "    for ridx in k.groups['N27 - REQUERIMIENTO CONCURSAL Com3']:\n",
    "        new27df=new27df.append(newkdf.iloc[lidx],ignore_index=True)\n",
    "        \n",
    "        new27df.loc[i,'keyword']=new27df.loc[i,'keyword']+newkdf.loc[ridx,'keyword']\n",
    "        i=i+1\n",
    "newkdf = newkdf[~((newkdf['file_class']=='N27') & (newkdf['purpose']=='CLASSIFICATION')&(newkdf['file_type']=='NOTIFICATION')&\n",
    "                  ((newkdf['notification_type']=='N27 - REQUERIMIENTO CONCURSAL Com2')|(newkdf['notification_type']=='N27 - REQUERIMIENTO CONCURSAL Com3')))].append(new27df,ignore_index=True)\n",
    "\n",
    "newkdf = newkdf.reset_index()\n",
    "for i, r in newkdf.loc[(newkdf['file_class']=='N27') & ((newkdf['notification_type']=='N27 - REQUERIMIENTO CONCURSAL Com1')|(newkdf['notification_type']=='N27 - REQUERIMIENTO CONCURSAL Com2'))].iterrows():\n",
    "    x= newkdf.loc[i,'keyword']+['administracion concursal']\n",
    "    newkdf.set_value(i,'keyword',x)#]=list(x)\n",
    "    newkdf.loc[i,'notification_type']= 'N27 - REQUERIMIENTO CONCURSAL'\n",
    "    \n",
    "newkdf = newkdf.rename(columns={'file_class':'fileclass','file_type':'filetype',\"notification_type\":\"decision_type\"})"
   ]
  },
  {
   "cell_type": "code",
   "execution_count": 17,
   "metadata": {},
   "outputs": [],
   "source": [
    "#newkdf.loc[newkdf['fileclass']=='N7']"
   ]
  },
  {
   "cell_type": "code",
   "execution_count": null,
   "metadata": {},
   "outputs": [],
   "source": []
  },
  {
   "cell_type": "markdown",
   "metadata": {},
   "source": [
    "## Add Sub"
   ]
  },
  {
   "cell_type": "code",
   "execution_count": 18,
   "metadata": {},
   "outputs": [],
   "source": [
    "warnings.simplefilter('ignore')\n",
    "kdf=newkdf\n",
    "kdf['keywordHash'] = kdf['keyword'].apply(lambda x :hashlib.sha256(json.dumps(x).encode('UTF-8')).hexdigest())\n",
    "kdf['sub'] = kdf['keyword'].apply(lambda x :[])\n",
    "kdf['bias']=kdf['fileclass']\n",
    "kdf.loc[(kdf['fileclass']=='N2')&(kdf['filetype']=='NOTIFICATION'),'bias']='N12'"
   ]
  },
  {
   "cell_type": "code",
   "execution_count": null,
   "metadata": {},
   "outputs": [],
   "source": []
  },
  {
   "cell_type": "code",
   "execution_count": 21,
   "metadata": {},
   "outputs": [],
   "source": [
    "\n",
    "def add_sub_link_keyword(kdf,keywords,fileclass,filetype,purpose,decision_type,bias,parent_class):\n",
    "    n_ind = kdf.index[-1]+1\n",
    "    for n15k in keywords:\n",
    "        k = [unidecode.unidecode(unicode(n15k,'UTF-8')).lower()]\n",
    "        hsh=hashlib.sha256(json.dumps(k)).hexdigest()\n",
    "         \n",
    "#         if 'DE DICHA CONSULTA RESULTÓ' this add 'QUE NO PERTENECE A ESTE PARTIDO JUDICIAL'    \n",
    "        \n",
    "        if not hsh in kdf['keywordHash'].values.tolist():\n",
    "            kdf.set_value(n_ind,'fileclass',fileclass)\n",
    "            kdf.set_value(n_ind,'filetype',filetype)\n",
    "            kdf.set_value(n_ind,'purpose',purpose)\n",
    "            kdf.set_value(n_ind,'decision_type',decision_type)\n",
    "\n",
    "            kdf.set_value(n_ind,'keyword',k)\n",
    "            kdf.set_value(n_ind,'bias',bias)\n",
    "            kdf.set_value(n_ind,'keywordHash',hsh)\n",
    "            kdf.set_value(n_ind,'sub',[])\n",
    "        for i in kdf[(kdf['fileclass']==parent_class)&(kdf['filetype']=='NOTIFICATION')&(kdf['purpose']=='CLASSIFICATION')].index:\n",
    "            \n",
    "            kx = kdf[kdf.index==i]['sub'].values[0]\n",
    "            kx.append(hsh)\n",
    "            kdf.set_value(i,'sub',kx)\n",
    "        n_ind+=1\n",
    "    return kdf\n",
    "N14_from_N13 = ['DESISTIMIENTO DEL PROCESO', 'HABIENDOSE SOLICITADO DESISTIMIENTO', 'HABER LLEGADO A UN ACUERDO',\n",
    "                'ACUERDO EL ARCHIVO DEFINITIVO DE LAS ACTUACIONES', 'ARCHIVAR EL PRESENTE PROCEDIMIENTO',\n",
    "                'ARCHIVAR LAS ACTUACIONES', 'ARCHÍVASE EL EXPEDIENTE', 'ARCHÍVENSE LOS PRESENTES AUTOS',\n",
    "                'DANDO PUBLICIDAD A LA CONCLUSIÓN Y ARCHIVO', 'DAR POR TERMINADO EL PRESENTE EXPEDIENTE',\n",
    "                'DAR POR TERMINADO EL PRESENTE PROCEDIMIENTO', 'DE DICHA CONSULTA RESULTÓ', \n",
    "                'DECLARAR TERMINADO EL PRESENTE PROCEDIMIENTO DE EJECUCIÓN',\n",
    "                'DECLARO FINALIZADO EL PRESENTE PROCEDIMIENTO MONITORIO',\n",
    "                'SE ACUERDA DAR POR TERMINADO EL PROCESO MONITORIO',\n",
    "                'SE ACUERDA EL ARCHIVO DE LAS ACTUACIONES', 'SE ACUERDA EL ARCHIVO DEFINITIVO',\n",
    "                'SE DECLARA FINALIZADO EL PRESENTE PROCESO MONITORIO', 'SE DECLARA TERMINADO',\n",
    "                'SE DECRETA LA TERMINACION DEL PROCESO', 'TENER POR TERMINADO']\n",
    "\n",
    "N13_from_N7 = ['SUSPENDO','SE SUSPENDE','SUSPENSIÓN','SUSPENDIÉNDOSE','SUSPENDER','ACORDANDO LA SUSPENSIÓN', \n",
    "               'SE ACUERDA NUEVO SEÑALAMIENTO','SEÑALÁNDOSE NUEVAMENTE','SEÑALAMIENTO NUEVO','SE SEÑALA NUEVAMENTE']\n",
    "#Parent->N2,Notification,classification\n",
    "N2_solicitor_list=[\"MALAGON LOYO\",\"ALCOCER ANTON\",\"GARCIA ABASCAL\",\"GARCÍA ABASCAL\"]\n",
    "#Parent->N4,Notification,classification\n",
    "N6_from_N2=[\"NO HA LUGAR A TENER POR PERSONADA\",\"NO HA LUGAR A LO SOLICITADO\"]\n",
    "N2_from_N6=[\"EN ESTE CASO HABIÉNDOSE JUSTIFICADO DE MODO FEHACIENTE LA REALIDAD DE LA CESIÓN\"]\n",
    "N9_from_N10=[\"APORTE NOTA SIMPLE DEL REGISTRO MERCANTIL\",\"ES DESCONOCIDO EN ESTE DOMICILIO\"]\n",
    "N11_from_N4 = ['TRANSFERENCIA','EL No DE CUENTA DESIGNADO','A LA CUENTA BANCARIA DESIGNADA',\n",
    "               'MEDIANTE TRANSFERENCIA A LA CUENTA DESIGNADA','MEDIANTE TRANSFERENCIA', 'SERA TRANSFERIDO']\n",
    "N3_from_N10 = ['NOTIFIQUESE ESTA RESOLUCION AL/LOS EJECUTADOS CON ENTREGA DE COPIA DE LA DEMANDA EJECUTIVA']\n",
    "#Parent->N16,Notification,classification\n",
    "N10_from_N11=['REQUIÉRASE A LA PARTE EJECUTANTE A FIN DE QUE DESIGNE CUENTA BANCARIA']\n",
    "N5_to_N10=['BAJO APERCIBIMIENTO DE QUE DE NO VERIFICARSE','SE ACUERDA LA PRÓRROGA DEL PLAZO','SE PROCEDERÁ A LA INADMISIÓN A TRÁMITE']\n",
    "N4_from_N11=['CUENTA DE FONDOS PROVISIONALMENTE ABANDONADOS','MANDAMIENTO DE PAGO',\n",
    "             'MANDAMIENTO DE DEVOLUCIÓN','MANDAMIENTO TELEMÁTICO DE PAGO', 'COPIA DE TRANSFERENCIA']\n",
    "N13_from_N14 = ['HABIÉNDOSE SOLICITADO POR LA PARTE DEMANDANTE EL DESISTIMIENTO DEL PROCESO', \n",
    "                'ACORDANDOSE LO QUE PROCEDA UNA VEZ TRASCURRA EL PLAZO']\n",
    "N19_from_N18 = ['MEJORA DEL EMBARGO']\n",
    "\n",
    "kdf = add_sub_link_keyword(kdf,N19_from_N18,'N19','NOTIFICATION','CLASSIFICATION_2','N19 - FURTHER GARNISHMENT','N19','N18')\n",
    "\n",
    "kdf = add_sub_link_keyword(kdf,N13_from_N7,'N13','NOTIFICATION','CLASSIFICATION_2','N13 EXTRACTION','N13','N7')\n",
    "kdf = add_sub_link_keyword(kdf,N14_from_N13,'N14','NOTIFICATION','CLASSIFICATION_2','N14-CANCELLED HEARINGS','N14','N13')\n",
    "kdf = add_sub_link_keyword(kdf,N6_from_N2,'N6','NOTIFICATION','CLASSIFICATION_2','N6-REJECTED TRANSFER OF LEGAL REPRESENTATION','N6','N2')\n",
    "kdf = add_sub_link_keyword(kdf,N2_from_N6,'N2','NOTIFICATION','CLASSIFICATION_2','N2- TRANSFER OF LEGAL REPRESENTATION','N2','N6')\n",
    "kdf = add_sub_link_keyword(kdf,N9_from_N10,'N9','NOTIFICATION','CLASSIFICATION_2','N9- PLACE OF RESIDENCY REQUIRED','N9','N10')\n",
    "\n",
    "kdf = add_sub_link_keyword(kdf,N2_solicitor_list,'N2','NOTIFICATION','AUXILIARY','N2-SOLICITOR LIST','N2','N2')\n",
    "kdf = add_sub_link_keyword(kdf,N11_from_N4,'N11','NOTIFICATION','CLASSIFICATION_2','N11-BANK TRANSFERS','N11','N4')\n",
    "kdf = add_sub_link_keyword(kdf,N5_to_N10,'N10','NOTIFICATION','CLASSIFICATION_2','N10-REQUIREMENTS','N10','N5')\n",
    "kdf = add_sub_link_keyword(kdf,N4_from_N11,'N4','NOTIFICATION','CLASSIFICATION_2','N4-STATEMENT OF PAYMENT','N4','N11')\n",
    "kdf = add_sub_link_keyword(kdf,N10_from_N11,'N10','NOTIFICATION','CLASSIFICATION_2','N10-REQUIREMENTS','N10','N11')\n",
    "kdf = add_sub_link_keyword(kdf, N3_from_N10, 'N3', 'NOTIFICATION', 'CLASSIFICATION_2', 'N3 EXTRACTION', 'N3', 'N10')\n",
    "kdf = add_sub_link_keyword(kdf, N13_from_N14, 'N13', 'NOTIFICATION', 'CLASSIFICATION_2', 'N13 EXTRACTION', 'N13', 'N14')"
   ]
  },
  {
   "cell_type": "code",
   "execution_count": null,
   "metadata": {},
   "outputs": [],
   "source": [
    "#kdf"
   ]
  },
  {
   "cell_type": "markdown",
   "metadata": {},
   "source": [
    "## Maintain Classification Hierarchy  "
   ]
  },
  {
   "cell_type": "code",
   "execution_count": null,
   "metadata": {},
   "outputs": [],
   "source": [
    "for k1 in N6_from_N2:\n",
    "    k = [unidecode.unidecode(unicode(k1,'UTF-8')).lower()]\n",
    "    hsh=hashlib.sha256(json.dumps(k)).hexdigest()\n",
    "    for i in kdf[(kdf['fileclass']=='N2')&(kdf['purpose']=='AUXILIARY')].index:\n",
    "            kx = kdf[kdf.index==i]['sub'].values[0]\n",
    "            kx.append(hsh)\n",
    "            kdf.set_value(i,'sub',kx)\n",
    "\n",
    "keys = [[unidecode.unidecode(unicode('RESUMEN DEL RESULTADO','UTF-8')).lower(),\n",
    "         unidecode.unidecode(unicode('CONSULTA INTEGRAL','UTF-8')).lower(),\n",
    "         unidecode.unidecode(unicode('RESUMEN DE INCIDENCIAS O INFORMACIÓN NO ENCONTRADA ','UTF-8')).lower()\n",
    "        ],\n",
    "        [\n",
    "         unidecode.unidecode(unicode('CONSULTA DE SITUACIONES LABORALES DE LA TGSS','UTF-8')).lower(),\n",
    "         unidecode.unidecode(unicode('SITUACION ACTUAL: ALTA','UTF-8')).lower()],\n",
    "        [\n",
    "         unidecode.unidecode(unicode('CONSULTA DE SITUACIONES LABORALES DE LA TGSS','UTF-8')).lower(),\n",
    "         unidecode.unidecode(unicode('ALTA SITUACION ACTUAL','UTF-8')).lower()],\n",
    "        [\n",
    "         unidecode.unidecode(unicode('CONSULTA DE VIDA LABORAL DE LA TGSS','UTF-8')).lower(),\n",
    "         unidecode.unidecode(unicode('RÉGIMEN DE LA SS: GENERAL','UTF-8')).lower()\n",
    "        ],\n",
    "        [\n",
    "         unidecode.unidecode(unicode('CONSULTA DE VIDA LABORAL DE LA TGSS','UTF-8')).lower(),\n",
    "         unidecode.unidecode(unicode('GENERAL RÉGIMEN DE LA SS:','UTF-8')).lower()\n",
    "        ]\n",
    "       ]\n",
    "         \n",
    "for k in keys:\n",
    "    hsh8=hashlib.sha256(json.dumps(k)).hexdigest()\n",
    "    n_ind = kdf.index[-1]+1\n",
    "    if not hsh8 in kdf['keywordHash'].values.tolist():\n",
    "        kdf.set_value(n_ind,'fileclass','N8')\n",
    "        kdf.set_value(n_ind,'filetype','NOTIFICATION')\n",
    "        kdf.set_value(n_ind,'purpose','CLASSIFICATION')\n",
    "        kdf.set_value(n_ind,'decision_type','N8-ASSET INQUIRY')\n",
    "\n",
    "        kdf.set_value(n_ind,'keyword',k)\n",
    "        kdf.set_value(n_ind,'bias','N8')\n",
    "        kdf.set_value(n_ind,'keywordHash',hsh8)\n",
    "        kdf.set_value(n_ind,'sub',[])\n",
    "    for i in kdf[(kdf['fileclass']=='N16')&(kdf['purpose']=='CLASSIFICATION')].index:\n",
    "\n",
    "        kx = kdf[kdf.index==i]['sub'].values[0]\n",
    "        kx.append(hsh8)\n",
    "        kdf.set_value(i,'sub',kx)\n",
    "keys = [[unidecode.unidecode(unicode('CONSULTA INTEGRAL','UTF-8')).lower(),\n",
    "         unidecode.unidecode(unicode('RESUMEN DE INCIDENCIAS O INFORMACION NO ENCONTRADA','UTF-8')).lower()],\n",
    "        [unidecode.unidecode(unicode('CONSULTA DE SITUACIONES LABORALES DE LA TGSS','UTF-8')).lower(),\n",
    "         unidecode.unidecode(unicode('SITUACION ACTUAL: BAJA','UTF-8')).lower()],\n",
    "        [unidecode.unidecode(unicode('CONSULTA DE VIDA LABORAL DE LA TGSS','UTF-8')).lower(),\n",
    "         unidecode.unidecode(unicode('AFILIADO SIN SITUACIONES EN EL PERIODO','UTF-8')).lower()],\n",
    "       ]\n",
    "for k in keys:\n",
    "    hsh=hashlib.sha256(json.dumps(k)).hexdigest()\n",
    "    n_ind = kdf.index[-1]+1\n",
    "    if not hsh in kdf['keywordHash'].values.tolist():\n",
    "        kdf.set_value(n_ind,'fileclass','N15')\n",
    "        kdf.set_value(n_ind,'filetype','NOTIFICATION')\n",
    "        kdf.set_value(n_ind,'purpose','CLASSIFICATION_2')\n",
    "        kdf.set_value(n_ind,'decision_type','N15-NEGATIVE ASSET INQUIRY')\n",
    "\n",
    "        kdf.set_value(n_ind,'keyword',k)\n",
    "        kdf.set_value(n_ind,'bias','N15')\n",
    "        kdf.set_value(n_ind,'keywordHash',hsh)\n",
    "        kdf.set_value(n_ind,'sub',[hsh8])\n",
    "    for i in kdf[(kdf['fileclass']=='N16')&(kdf['filetype']=='NOTIFICATION')&(kdf['purpose']=='CLASSIFICATION')].index:\n",
    "\n",
    "        kx = kdf[kdf.index==i]['sub'].values[0]\n",
    "        kx.append(hsh8)\n",
    "        kdf.set_value(i,'sub',kx)\n",
    "        \n",
    "        \n",
    "        \n"
   ]
  },
  {
   "cell_type": "markdown",
   "metadata": {},
   "source": [
    "## Remove Duplicates"
   ]
  },
  {
   "cell_type": "code",
   "execution_count": 23,
   "metadata": {},
   "outputs": [
    {
     "name": "stdout",
     "output_type": "stream",
     "text": [
      "[388, 374, 631, 15, 642, 360, 86, 87, 415, 531, 401, 640, 639, 633, 88, 2273, 632, 753, 233, 234, 822, 232, 672, 668, 126, 634, 727, 641, 457, 638, 443]\n"
     ]
    }
   ],
   "source": [
    "kdf['keyword'] = kdf['keyword'].apply(lambda x : json.dumps(x))\n",
    "kg=kdf[kdf['purpose']=='CLASSIFICATION'].groupby('keyword')\n",
    "ls=[]\n",
    "for k,v in kg.groups.items():\n",
    "    if(len(v)>1):\n",
    "        if len(set(kdf[kdf['keyword']==k]['fileclass'].values)) ==1:\n",
    "            ls=ls+v.values.tolist()[1:]\n",
    "        else:\n",
    "            if set(kdf[kdf['keyword']==k]['fileclass'].values)<=set(['N8','N15','N16']):\n",
    "                for j in v.values.tolist():\n",
    "                    if kdf.loc[j,'fileclass']!='N16':\n",
    "                        ls.append(j)\n",
    "            elif set(kdf[kdf['keyword']==k]['fileclass'].values)<=set(['N13','N14']):\n",
    "                for j in v.values.tolist():\n",
    "                    if kdf.loc[j,'fileclass']!='N13':\n",
    "                        ls.append(j)\n",
    "print(ls)\n",
    "kdf['keyword'] = kdf['keyword'].apply(lambda x : json.loads(x))\n",
    "\n",
    "kdf=kdf.drop(kdf.index[ls])"
   ]
  },
  {
   "cell_type": "markdown",
   "metadata": {},
   "source": [
    "## Write Files"
   ]
  },
  {
   "cell_type": "code",
   "execution_count": 24,
   "metadata": {},
   "outputs": [
    {
     "data": {
      "text/plain": [
       "(4165, 9)"
      ]
     },
     "execution_count": 24,
     "metadata": {},
     "output_type": "execute_result"
    }
   ],
   "source": [
    "kdf.shape"
   ]
  },
  {
   "cell_type": "code",
   "execution_count": 25,
   "metadata": {},
   "outputs": [],
   "source": [
    "a = {'keywords':kdf,\n",
    "     'susKeyword':suspkdf\n",
    "    }\n",
    "with open('Keyword.pickle', 'wb') as handle:\n",
    "    pickle.dump(a, handle, protocol=pickle.HIGHEST_PROTOCOL)"
   ]
  },
  {
   "cell_type": "code",
   "execution_count": 26,
   "metadata": {},
   "outputs": [
    {
     "data": {
      "text/plain": [
       "((4165, 9), (338, 4))"
      ]
     },
     "execution_count": 26,
     "metadata": {},
     "output_type": "execute_result"
    }
   ],
   "source": [
    "kdf.shape, suspkdf.shape"
   ]
  },
  {
   "cell_type": "code",
   "execution_count": null,
   "metadata": {},
   "outputs": [],
   "source": [
    "kdf.loc[(kdf.fileclass == 'N27')]"
   ]
  },
  {
   "cell_type": "code",
   "execution_count": null,
   "metadata": {},
   "outputs": [],
   "source": []
  }
 ],
 "metadata": {
  "kernelspec": {
   "display_name": "Python 2",
   "language": "python",
   "name": "python2"
  },
  "language_info": {
   "codemirror_mode": {
    "name": "ipython",
    "version": 2
   },
   "file_extension": ".py",
   "mimetype": "text/x-python",
   "name": "python",
   "nbconvert_exporter": "python",
   "pygments_lexer": "ipython2",
   "version": "2.7.12"
  }
 },
 "nbformat": 4,
 "nbformat_minor": 2
}
